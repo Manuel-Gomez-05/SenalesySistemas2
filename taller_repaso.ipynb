{
  "nbformat": 4,
  "nbformat_minor": 0,
  "metadata": {
    "colab": {
      "provenance": [],
      "authorship_tag": "ABX9TyOsBoW5fMsudwmo2ylKAmBo",
      "include_colab_link": true
    },
    "kernelspec": {
      "name": "python3",
      "display_name": "Python 3"
    },
    "language_info": {
      "name": "python"
    }
  },
  "cells": [
    {
      "cell_type": "markdown",
      "metadata": {
        "id": "view-in-github",
        "colab_type": "text"
      },
      "source": [
        "<a href=\"https://colab.research.google.com/github/Manuel-Gomez-05/SenalesySistemas2/blob/main/taller_repaso.ipynb\" target=\"_parent\"><img src=\"https://colab.research.google.com/assets/colab-badge.svg\" alt=\"Open In Colab\"/></a>"
      ]
    },
    {
      "cell_type": "code",
      "execution_count": 6,
      "metadata": {
        "colab": {
          "base_uri": "https://localhost:8080/"
        },
        "id": "ZpJEihb6mTdp",
        "outputId": "4e513a8e-d379-41db-c8ea-79939f4ce753"
      },
      "outputs": [
        {
          "output_type": "stream",
          "name": "stdout",
          "text": [
            "manuel\n"
          ]
        }
      ],
      "source": [
        "escuela={\n",
        "    \"noombre\":\"manuel\",\n",
        "    \"grado\":\"sexto\",\n",
        "    \"sexo\":\"no se\",\n",
        "    \"estado\":\"soltero\"\n",
        "}\n",
        "print(escuela[\"noombre\"])"
      ]
    },
    {
      "cell_type": "code",
      "source": [
        "A = [0,1,2,3,4,5]\n",
        "A.reverse()\n",
        "A"
      ],
      "metadata": {
        "colab": {
          "base_uri": "https://localhost:8080/"
        },
        "id": "isxPlPehrtAM",
        "outputId": "f89b1322-b3f8-4c3b-c5d7-0679aea9fd40"
      },
      "execution_count": 9,
      "outputs": [
        {
          "output_type": "execute_result",
          "data": {
            "text/plain": [
              "[5, 4, 3, 2, 1, 0]"
            ]
          },
          "metadata": {},
          "execution_count": 9
        }
      ]
    },
    {
      "cell_type": "code",
      "source": [
        "A = [0,1,2,3,4,5]\n",
        "for i in A:\n",
        "  i=A[::-1]\n",
        "print(i)"
      ],
      "metadata": {
        "colab": {
          "base_uri": "https://localhost:8080/"
        },
        "id": "cZA8qyxasvXP",
        "outputId": "abadb9e0-9e0c-468a-f530-a7614ca53179"
      },
      "execution_count": 14,
      "outputs": [
        {
          "output_type": "stream",
          "name": "stdout",
          "text": [
            "[5, 4, 3, 2, 1, 0]\n"
          ]
        }
      ]
    },
    {
      "cell_type": "code",
      "source": [
        "A=4\n",
        "while A<=7:\n",
        "  A+=1\n",
        "  print(A)"
      ],
      "metadata": {
        "colab": {
          "base_uri": "https://localhost:8080/"
        },
        "id": "QlwskwqRtQrR",
        "outputId": "18bc032d-444f-4b09-b76e-ef7ba0aa040b"
      },
      "execution_count": 15,
      "outputs": [
        {
          "output_type": "stream",
          "name": "stdout",
          "text": [
            "5\n",
            "6\n",
            "7\n",
            "8\n"
          ]
        }
      ]
    },
    {
      "cell_type": "code",
      "source": [
        "import numpy as np\n",
        "x=np.array([[0,1,2,3,4],[9,2,3,12,32],[31,21,43,1,0]])\n",
        "print(x)\n",
        "x[:,4]"
      ],
      "metadata": {
        "colab": {
          "base_uri": "https://localhost:8080/"
        },
        "id": "MWzerqJHtP2y",
        "outputId": "0d0c19ac-fa01-4639-cc91-0252cb14543e"
      },
      "execution_count": 3,
      "outputs": [
        {
          "output_type": "stream",
          "name": "stdout",
          "text": [
            "[[ 0  1  2  3  4]\n",
            " [ 9  2  3 12 32]\n",
            " [31 21 43  1  0]]\n"
          ]
        },
        {
          "output_type": "execute_result",
          "data": {
            "text/plain": [
              "array([ 4, 32,  0])"
            ]
          },
          "metadata": {},
          "execution_count": 3
        }
      ]
    },
    {
      "cell_type": "code",
      "source": [
        "class vehiculo:\n",
        "  def __init__(self, marca, color):\n",
        "    self.marca = marca\n",
        "    self.color = color\n",
        "\n",
        "carro1 = vehiculo(\"toyota\", \"rojo\")\n",
        "print(carro1.marca)\n",
        "\n",
        "class moto(vehiculo):\n",
        "  def __init__(self,marca,color,año):\n",
        "    super().__init__(marca,color)\n",
        "    self.año = año\n",
        "\n",
        "moto1= moto(\"toyota\",\"rojo\",\"1000\")\n",
        "print(moto1.año)"
      ],
      "metadata": {
        "colab": {
          "base_uri": "https://localhost:8080/"
        },
        "id": "qTVIrH-cu3TW",
        "outputId": "b66f334c-4071-41e5-f001-f6dfde1a02a5"
      },
      "execution_count": 42,
      "outputs": [
        {
          "output_type": "stream",
          "name": "stdout",
          "text": [
            "toyota\n",
            "1000\n"
          ]
        }
      ]
    },
    {
      "cell_type": "code",
      "source": [
        "lista = [1, 2, 3, 4, 5]\n",
        "nueva_lista = []\n",
        "i = len(lista) - 1\n",
        "while i >= 0:\n",
        "    if lista[i] > 2:\n",
        "        nueva_lista.append(lista[i] * 10)\n",
        "    i -= 1\n",
        "print(nueva_lista)\n"
      ],
      "metadata": {
        "colab": {
          "base_uri": "https://localhost:8080/"
        },
        "id": "0B2eiIYr_U6S",
        "outputId": "2d1068e1-b2fe-4e8a-db9a-930f989b13b9"
      },
      "execution_count": 1,
      "outputs": [
        {
          "output_type": "stream",
          "name": "stdout",
          "text": [
            "[50, 40, 30]\n"
          ]
        }
      ]
    },
    {
      "cell_type": "code",
      "source": [
        "#discretice una señal que trabaja en el intervalo [0,5.3]v con una fs=100\n",
        "import numpy as np\n",
        "ti=0\n",
        "tf=5.3\n",
        "fs=100\n",
        "ts=1/fs\n",
        "x=np.arange(ti,tf,ts)\n",
        "x"
      ],
      "metadata": {
        "colab": {
          "base_uri": "https://localhost:8080/"
        },
        "id": "j6q2JDxqcTDf",
        "outputId": "90390633-761b-49f6-ecec-2901a7bd5513"
      },
      "execution_count": 11,
      "outputs": [
        {
          "output_type": "execute_result",
          "data": {
            "text/plain": [
              "array([0.  , 0.01, 0.02, 0.03, 0.04, 0.05, 0.06, 0.07, 0.08, 0.09, 0.1 ,\n",
              "       0.11, 0.12, 0.13, 0.14, 0.15, 0.16, 0.17, 0.18, 0.19, 0.2 , 0.21,\n",
              "       0.22, 0.23, 0.24, 0.25, 0.26, 0.27, 0.28, 0.29, 0.3 , 0.31, 0.32,\n",
              "       0.33, 0.34, 0.35, 0.36, 0.37, 0.38, 0.39, 0.4 , 0.41, 0.42, 0.43,\n",
              "       0.44, 0.45, 0.46, 0.47, 0.48, 0.49, 0.5 , 0.51, 0.52, 0.53, 0.54,\n",
              "       0.55, 0.56, 0.57, 0.58, 0.59, 0.6 , 0.61, 0.62, 0.63, 0.64, 0.65,\n",
              "       0.66, 0.67, 0.68, 0.69, 0.7 , 0.71, 0.72, 0.73, 0.74, 0.75, 0.76,\n",
              "       0.77, 0.78, 0.79, 0.8 , 0.81, 0.82, 0.83, 0.84, 0.85, 0.86, 0.87,\n",
              "       0.88, 0.89, 0.9 , 0.91, 0.92, 0.93, 0.94, 0.95, 0.96, 0.97, 0.98,\n",
              "       0.99, 1.  , 1.01, 1.02, 1.03, 1.04, 1.05, 1.06, 1.07, 1.08, 1.09,\n",
              "       1.1 , 1.11, 1.12, 1.13, 1.14, 1.15, 1.16, 1.17, 1.18, 1.19, 1.2 ,\n",
              "       1.21, 1.22, 1.23, 1.24, 1.25, 1.26, 1.27, 1.28, 1.29, 1.3 , 1.31,\n",
              "       1.32, 1.33, 1.34, 1.35, 1.36, 1.37, 1.38, 1.39, 1.4 , 1.41, 1.42,\n",
              "       1.43, 1.44, 1.45, 1.46, 1.47, 1.48, 1.49, 1.5 , 1.51, 1.52, 1.53,\n",
              "       1.54, 1.55, 1.56, 1.57, 1.58, 1.59, 1.6 , 1.61, 1.62, 1.63, 1.64,\n",
              "       1.65, 1.66, 1.67, 1.68, 1.69, 1.7 , 1.71, 1.72, 1.73, 1.74, 1.75,\n",
              "       1.76, 1.77, 1.78, 1.79, 1.8 , 1.81, 1.82, 1.83, 1.84, 1.85, 1.86,\n",
              "       1.87, 1.88, 1.89, 1.9 , 1.91, 1.92, 1.93, 1.94, 1.95, 1.96, 1.97,\n",
              "       1.98, 1.99, 2.  , 2.01, 2.02, 2.03, 2.04, 2.05, 2.06, 2.07, 2.08,\n",
              "       2.09, 2.1 , 2.11, 2.12, 2.13, 2.14, 2.15, 2.16, 2.17, 2.18, 2.19,\n",
              "       2.2 , 2.21, 2.22, 2.23, 2.24, 2.25, 2.26, 2.27, 2.28, 2.29, 2.3 ,\n",
              "       2.31, 2.32, 2.33, 2.34, 2.35, 2.36, 2.37, 2.38, 2.39, 2.4 , 2.41,\n",
              "       2.42, 2.43, 2.44, 2.45, 2.46, 2.47, 2.48, 2.49, 2.5 , 2.51, 2.52,\n",
              "       2.53, 2.54, 2.55, 2.56, 2.57, 2.58, 2.59, 2.6 , 2.61, 2.62, 2.63,\n",
              "       2.64, 2.65, 2.66, 2.67, 2.68, 2.69, 2.7 , 2.71, 2.72, 2.73, 2.74,\n",
              "       2.75, 2.76, 2.77, 2.78, 2.79, 2.8 , 2.81, 2.82, 2.83, 2.84, 2.85,\n",
              "       2.86, 2.87, 2.88, 2.89, 2.9 , 2.91, 2.92, 2.93, 2.94, 2.95, 2.96,\n",
              "       2.97, 2.98, 2.99, 3.  , 3.01, 3.02, 3.03, 3.04, 3.05, 3.06, 3.07,\n",
              "       3.08, 3.09, 3.1 , 3.11, 3.12, 3.13, 3.14, 3.15, 3.16, 3.17, 3.18,\n",
              "       3.19, 3.2 , 3.21, 3.22, 3.23, 3.24, 3.25, 3.26, 3.27, 3.28, 3.29,\n",
              "       3.3 , 3.31, 3.32, 3.33, 3.34, 3.35, 3.36, 3.37, 3.38, 3.39, 3.4 ,\n",
              "       3.41, 3.42, 3.43, 3.44, 3.45, 3.46, 3.47, 3.48, 3.49, 3.5 , 3.51,\n",
              "       3.52, 3.53, 3.54, 3.55, 3.56, 3.57, 3.58, 3.59, 3.6 , 3.61, 3.62,\n",
              "       3.63, 3.64, 3.65, 3.66, 3.67, 3.68, 3.69, 3.7 , 3.71, 3.72, 3.73,\n",
              "       3.74, 3.75, 3.76, 3.77, 3.78, 3.79, 3.8 , 3.81, 3.82, 3.83, 3.84,\n",
              "       3.85, 3.86, 3.87, 3.88, 3.89, 3.9 , 3.91, 3.92, 3.93, 3.94, 3.95,\n",
              "       3.96, 3.97, 3.98, 3.99, 4.  , 4.01, 4.02, 4.03, 4.04, 4.05, 4.06,\n",
              "       4.07, 4.08, 4.09, 4.1 , 4.11, 4.12, 4.13, 4.14, 4.15, 4.16, 4.17,\n",
              "       4.18, 4.19, 4.2 , 4.21, 4.22, 4.23, 4.24, 4.25, 4.26, 4.27, 4.28,\n",
              "       4.29, 4.3 , 4.31, 4.32, 4.33, 4.34, 4.35, 4.36, 4.37, 4.38, 4.39,\n",
              "       4.4 , 4.41, 4.42, 4.43, 4.44, 4.45, 4.46, 4.47, 4.48, 4.49, 4.5 ,\n",
              "       4.51, 4.52, 4.53, 4.54, 4.55, 4.56, 4.57, 4.58, 4.59, 4.6 , 4.61,\n",
              "       4.62, 4.63, 4.64, 4.65, 4.66, 4.67, 4.68, 4.69, 4.7 , 4.71, 4.72,\n",
              "       4.73, 4.74, 4.75, 4.76, 4.77, 4.78, 4.79, 4.8 , 4.81, 4.82, 4.83,\n",
              "       4.84, 4.85, 4.86, 4.87, 4.88, 4.89, 4.9 , 4.91, 4.92, 4.93, 4.94,\n",
              "       4.95, 4.96, 4.97, 4.98, 4.99, 5.  , 5.01, 5.02, 5.03, 5.04, 5.05,\n",
              "       5.06, 5.07, 5.08, 5.09, 5.1 , 5.11, 5.12, 5.13, 5.14, 5.15, 5.16,\n",
              "       5.17, 5.18, 5.19, 5.2 , 5.21, 5.22, 5.23, 5.24, 5.25, 5.26, 5.27,\n",
              "       5.28, 5.29])"
            ]
          },
          "metadata": {},
          "execution_count": 11
        }
      ]
    },
    {
      "cell_type": "code",
      "source": [
        "import numpy as np\n",
        "import matplotlib.pyplot as plt\n",
        "import cmath # Para trabajar con números complejos\n",
        "\n",
        "# Nuestro coeficiente de ejemplo\n",
        "cn = 3 + 4j\n",
        "\n",
        "# Extraemos la parte real e imaginaria\n",
        "real_part = cn.real\n",
        "imag_part = cn.imag\n",
        "\n",
        "# Calculamos la magnitud y la fase (en radianes y grados)\n",
        "magnitud = abs(cn) # Equivalente a np.sqrt(cn.real**2 + cn.imag**2)\n",
        "fase_rad = cmath.phase(cn) # Equivalente a np.arctan2(cn.imag, cn.real)\n",
        "fase_deg = np.degrees(fase_rad)\n",
        "\n",
        "# --- Creación del Gráfico ---\n",
        "fig, ax = plt.subplots(figsize=(8, 8))\n",
        "\n",
        "# Dibujar los ejes\n",
        "ax.axhline(0, color='grey', lw=0.5)\n",
        "ax.axvline(0, color='grey', lw=0.5)\n",
        "\n",
        "# Dibujar el vector desde el origen hasta el punto cn\n",
        "ax.quiver(0, 0, real_part, imag_part, angles='xy', scale_units='xy', scale=1, color='blue', label=f'$c_n = {cn}$')\n",
        "\n",
        "# Marcar el punto final\n",
        "ax.plot(real_part, imag_part, 'bo')\n",
        "\n",
        "# Dibujar líneas punteadas para visualizar las componentes\n",
        "ax.plot([0, real_part], [imag_part, imag_part], 'b--')\n",
        "ax.plot([real_part, real_part], [0, imag_part], 'b--')\n",
        "\n",
        "# Anotar la Magnitud (longitud del vector)\n",
        "ax.text(real_part / 2, imag_part / 2 + 0.2, f'Magnitud |$c_n$| = {magnitud:.2f}', color='red', ha='center')\n",
        "\n",
        "# Anotar la Fase (ángulo)\n",
        "# Crear un arco para visualizar el ángulo\n",
        "from matplotlib.patches import Arc\n",
        "angle_arc = Arc((0,0), 2, 2, angle=0, theta1=0, theta2=fase_deg, color='green', linewidth=1.5)\n",
        "ax.add_patch(angle_arc)\n",
        "ax.text(1.2 * np.cos(fase_rad / 2), 1.2 * np.sin(fase_rad / 2), f'Fase $\\\\angle c_n$ = {fase_deg:.2f}°', color='green', ha='center', va='center')\n",
        "\n",
        "# Configuración del gráfico\n",
        "ax.set_xlabel(\"Parte Real (Re)\", fontsize=12)\n",
        "ax.set_ylabel(\"Parte Imaginaria (Im)\", fontsize=12)\n",
        "ax.set_title(f'Representación de $c_n = {cn}$ en el Plano Complejo', fontsize=14)\n",
        "ax.set_xlim(-1, max(5, real_part + 1))\n",
        "ax.set_ylim(-1, max(5, imag_part + 1))\n",
        "ax.set_aspect('equal', adjustable='box') # Asegura que los ejes tengan la misma escala\n",
        "ax.grid(True)\n",
        "ax.legend()\n",
        "\n",
        "plt.show()\n",
        "\n",
        "print(f\"Número Complejo: c_n = {cn}\")\n",
        "print(f\"Magnitud |c_n| = {magnitud:.4f}\")\n",
        "print(f\"Fase (radianes) = {fase_rad:.4f} rad\")\n",
        "print(f\"Fase (grados) = {fase_deg:.4f}°\")\n"
      ],
      "metadata": {
        "colab": {
          "base_uri": "https://localhost:8080/",
          "height": 795
        },
        "id": "5c4mmqljhOYH",
        "outputId": "015a6868-5ac2-49d4-da9b-0831e2efa327"
      },
      "execution_count": 12,
      "outputs": [
        {
          "output_type": "display_data",
          "data": {
            "text/plain": [
              "<Figure size 800x800 with 1 Axes>"
            ],
            "image/png": "[encoded data removed]"
          },
          "metadata": {}
        },
        {
          "output_type": "stream",
          "name": "stdout",
          "text": [
            "Número Complejo: c_n = (3+4j)\n",
            "Magnitud |c_n| = 5.0000\n",
            "Fase (radianes) = 0.9273 rad\n",
            "Fase (grados) = 53.1301°\n"
          ]
        }
      ]
    }
  ]
}